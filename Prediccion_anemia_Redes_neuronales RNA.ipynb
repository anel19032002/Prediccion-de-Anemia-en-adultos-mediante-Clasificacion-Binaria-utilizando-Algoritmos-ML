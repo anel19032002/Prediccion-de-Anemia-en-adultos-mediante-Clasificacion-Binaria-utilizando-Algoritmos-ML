{
  "nbformat": 4,
  "nbformat_minor": 0,
  "metadata": {
    "colab": {
      "provenance": []
    },
    "kernelspec": {
      "name": "python3",
      "display_name": "Python 3"
    },
    "language_info": {
      "name": "python"
    }
  },
  "cells": [
    {
      "cell_type": "code",
      "source": [
        "import numpy as np\n",
        "import pandas as pd\n",
        "from sklearn.model_selection import train_test_split\n",
        "from keras.models import Sequential\n",
        "from keras.layers import Dense\n",
        "# Cargar los datos\n",
        "data = pd.read_csv(\"/content/anemia_adultos.csv\")\n",
        "# Seleccionar las variables\n",
        "X = data.drop(\"Result\", axis=1)\n",
        "y = data[\"Result\"]\n",
        "# Codificar la variable de destino\n",
        "y = y.astype(\"int\")\n",
        "# Dividir los datos en conjuntos de entrenamiento, validación y prueba\n",
        "X_train, X_val, y_train, y_val = train_test_split(X, y, test_size=0.2, random_state=42)\n",
        "# Crear la red neuronal\n",
        "model = Sequential()\n",
        "model.add(Dense(64, activation=\"relu\", input_shape=(X_train.shape[1],)))\n",
        "model.add(Dense(32, activation=\"relu\"))\n",
        "model.add(Dense(1, activation=\"sigmoid\"))\n",
        "# Compilar el modelo\n",
        "model.compile(loss=\"binary_crossentropy\", optimizer=\"adam\", metrics=[\"accuracy\"])\n",
        "# Entrenar el modelo\n",
        "model.fit(X_train, y_train, epochs=12, validation_data=(X_val, y_val))\n",
        "# Evaluar el modelo\n",
        "score = model.evaluate(X_val, y_val, verbose=0)\n",
        "print(\"Pérdida en el conjunto de validación:\", score[0])\n",
        "print(\"Precisión en el conjunto de validación:\", score[1])"
      ],
      "metadata": {
        "colab": {
          "base_uri": "https://localhost:8080/"
        },
        "id": "3xdgLqbCt-o_",
        "outputId": "14be0650-27b8-4714-d3d5-6ae9ea3e7fbf"
      },
      "execution_count": 1,
      "outputs": [
        {
          "output_type": "stream",
          "name": "stdout",
          "text": [
            "Epoch 1/12\n",
            "383/383 [==============================] - 4s 6ms/step - loss: 0.5551 - accuracy: 0.7541 - val_loss: 0.3506 - val_accuracy: 0.9098\n",
            "Epoch 2/12\n",
            "383/383 [==============================] - 1s 3ms/step - loss: 0.2924 - accuracy: 0.9029 - val_loss: 0.2241 - val_accuracy: 0.9771\n",
            "Epoch 3/12\n",
            "383/383 [==============================] - 1s 3ms/step - loss: 0.2017 - accuracy: 0.9400 - val_loss: 0.1736 - val_accuracy: 0.9229\n",
            "Epoch 4/12\n",
            "383/383 [==============================] - 1s 2ms/step - loss: 0.1568 - accuracy: 0.9514 - val_loss: 0.1289 - val_accuracy: 0.9817\n",
            "Epoch 5/12\n",
            "383/383 [==============================] - 1s 3ms/step - loss: 0.1337 - accuracy: 0.9593 - val_loss: 0.1234 - val_accuracy: 0.9611\n",
            "Epoch 6/12\n",
            "383/383 [==============================] - 1s 2ms/step - loss: 0.1121 - accuracy: 0.9650 - val_loss: 0.0950 - val_accuracy: 0.9827\n",
            "Epoch 7/12\n",
            "383/383 [==============================] - 1s 3ms/step - loss: 0.1119 - accuracy: 0.9594 - val_loss: 0.0960 - val_accuracy: 0.9575\n",
            "Epoch 8/12\n",
            "383/383 [==============================] - 1s 3ms/step - loss: 0.0959 - accuracy: 0.9653 - val_loss: 0.0785 - val_accuracy: 0.9824\n",
            "Epoch 9/12\n",
            "383/383 [==============================] - 1s 3ms/step - loss: 0.0855 - accuracy: 0.9716 - val_loss: 0.0866 - val_accuracy: 0.9552\n",
            "Epoch 10/12\n",
            "383/383 [==============================] - 1s 3ms/step - loss: 0.0834 - accuracy: 0.9682 - val_loss: 0.1009 - val_accuracy: 0.9438\n",
            "Epoch 11/12\n",
            "383/383 [==============================] - 1s 3ms/step - loss: 0.0844 - accuracy: 0.9654 - val_loss: 0.1012 - val_accuracy: 0.9428\n",
            "Epoch 12/12\n",
            "383/383 [==============================] - 2s 5ms/step - loss: 0.0776 - accuracy: 0.9699 - val_loss: 0.0580 - val_accuracy: 0.9902\n",
            "Pérdida en el conjunto de validación: 0.057965680956840515\n",
            "Precisión en el conjunto de validación: 0.9901960492134094\n"
          ]
        }
      ]
    },
    {
      "cell_type": "code",
      "source": [
        "# Evaluar el modelo\n",
        "score = model.evaluate(X_train, y_train)\n",
        "\n",
        "# Imprimir el accuracy y pérdida de entrenamiento\n",
        "print(f\"Precisión en el conjunto de entrenamiento: {score[1]}, pérdida en el conjunto de entrenamiento: {score[0]}\")\n",
        "\n"
      ],
      "metadata": {
        "colab": {
          "base_uri": "https://localhost:8080/"
        },
        "id": "xkDX94M4v1Rk",
        "outputId": "1e28467b-0766-4bfe-960d-d65cf2104884"
      },
      "execution_count": 2,
      "outputs": [
        {
          "output_type": "stream",
          "name": "stdout",
          "text": [
            "383/383 [==============================] - 1s 2ms/step - loss: 0.0574 - accuracy: 0.9925\n",
            "Precisión en el conjunto de entrenamiento: 0.9924836754798889, pérdida en el conjunto de entrenamiento: 0.05741559714078903\n"
          ]
        }
      ]
    },
    {
      "cell_type": "code",
      "source": [
        "# Definir los nuevos registros\n",
        "nuevos_registros = np.array([[1,12.8,33.48,33.63,99.55], [0,13.5,26.5,32.6,81.3],\n",
        "                       [1,13.84,29.04,33.21,87.44],[1,14.6,30.7,33.1,92.9],[0,13.28,31.31,36.87,84.92]])\n",
        "\n",
        "# Predecir la anemia\n",
        "predicciones = model.predict(nuevos_registros)\n",
        "\n",
        "# Imprimir las predicciones\n",
        "print(\"Predicciones:\", [1 if prediccion >= 0.5 else 0 for prediccion in predicciones])"
      ],
      "metadata": {
        "colab": {
          "base_uri": "https://localhost:8080/"
        },
        "id": "JY3bth5vc8r6",
        "outputId": "34c4bc10-2401-4904-da76-5332879bb5e4"
      },
      "execution_count": 8,
      "outputs": [
        {
          "output_type": "stream",
          "name": "stdout",
          "text": [
            "1/1 [==============================] - 0s 61ms/step\n",
            "Predicciones: [1, 0, 0, 0, 0]\n"
          ]
        }
      ]
    },
    {
      "cell_type": "code",
      "source": [
        "# Definir los nuevos registros\n",
        "nuevos_registros = pd.read_csv(\"/content/DataPrueba.csv\")\n",
        "\n",
        "# Predecir la anemia\n",
        "predicciones = model.predict(nuevos_registros)\n",
        "\n",
        "# Imprimir las predicciones\n",
        "print(\"Predicciones:\", [1 if prediccion >= 0.5 else 0 for prediccion in predicciones])\n"
      ],
      "metadata": {
        "colab": {
          "base_uri": "https://localhost:8080/"
        },
        "id": "Vk0Qe22YeINI",
        "outputId": "ba21261f-6e52-4fa4-9078-eb51de325798"
      },
      "execution_count": 6,
      "outputs": [
        {
          "output_type": "stream",
          "name": "stdout",
          "text": [
            "57/57 [==============================] - 0s 1ms/step\n",
            "Predicciones: [1, 1, 0, 0, 0, 0, 0, 0, 0, 1, 1, 1, 1, 0, 1, 0, 0, 0, 0, 1, 0, 0, 0, 1, 0, 1, 0, 1, 1, 1, 1, 1, 1, 0, 0, 1, 1, 0, 0, 0, 1, 1, 0, 0, 0, 1, 0, 0, 1, 1, 0, 0, 1, 1, 1, 1, 1, 1, 1, 1, 0, 0, 0, 0, 1, 0, 0, 1, 1, 0, 0, 0, 1, 0, 0, 0, 1, 0, 0, 0, 0, 1, 0, 0, 1, 0, 1, 0, 0, 0, 1, 0, 1, 0, 0, 0, 0, 0, 0, 0, 1, 1, 0, 1, 1, 1, 1, 1, 1, 0, 0, 1, 0, 0, 0, 0, 0, 1, 0, 1, 1, 1, 1, 1, 1, 1, 1, 0, 0, 0, 0, 0, 1, 0, 0, 1, 0, 1, 0, 0, 1, 0, 1, 1, 0, 1, 1, 1, 1, 0, 0, 1, 1, 0, 1, 1, 0, 0, 0, 0, 1, 1, 0, 1, 0, 0, 0, 0, 0, 0, 1, 0, 0, 0, 1, 1, 0, 0, 1, 0, 0, 0, 0, 1, 0, 1, 1, 0, 1, 0, 0, 1, 0, 0, 0, 0, 0, 1, 0, 0, 1, 1, 1, 1, 1, 0, 0, 0, 1, 0, 0, 0, 1, 0, 0, 1, 0, 0, 0, 0, 0, 0, 1, 1, 0, 0, 1, 1, 1, 1, 1, 0, 0, 0, 0, 0, 0, 1, 1, 1, 0, 1, 0, 1, 0, 0, 1, 0, 1, 0, 0, 1, 1, 0, 0, 1, 0, 1, 0, 0, 1, 1, 0, 0, 0, 0, 1, 0, 0, 1, 0, 0, 0, 1, 1, 0, 0, 1, 0, 1, 1, 0, 1, 1, 0, 1, 1, 0, 0, 1, 0, 1, 0, 0, 1, 0, 0, 1, 0, 0, 1, 1, 0, 1, 0, 1, 1, 0, 1, 0, 1, 1, 1, 0, 1, 1, 0, 0, 1, 0, 1, 0, 1, 0, 1, 0, 0, 1, 1, 1, 0, 0, 0, 0, 0, 1, 0, 1, 0, 0, 1, 1, 1, 1, 0, 0, 0, 1, 0, 1, 0, 0, 1, 1, 0, 1, 0, 0, 0, 0, 1, 0, 0, 0, 0, 1, 0, 1, 0, 0, 1, 0, 1, 1, 0, 0, 0, 1, 0, 0, 0, 0, 1, 1, 0, 1, 1, 0, 0, 1, 0, 0, 1, 1, 1, 1, 0, 0, 1, 0, 1, 0, 0, 0, 1, 0, 0, 0, 1, 0, 1, 1, 0, 0, 1, 0, 0, 0, 0, 0, 0, 1, 0, 0, 0, 0, 0, 1, 1, 0, 0, 1, 0, 0, 1, 1, 1, 0, 0, 0, 1, 1, 0, 0, 0, 0, 0, 0, 1, 0, 1, 1, 0, 1, 0, 0, 0, 0, 0, 0, 1, 0, 1, 1, 1, 0, 1, 0, 1, 0, 0, 0, 1, 1, 0, 0, 1, 0, 0, 1, 1, 0, 0, 0, 1, 0, 0, 0, 0, 0, 0, 1, 1, 1, 1, 0, 1, 1, 0, 1, 1, 0, 0, 1, 0, 0, 0, 1, 0, 0, 1, 0, 0, 0, 1, 0, 1, 0, 0, 0, 0, 0, 0, 0, 0, 0, 0, 1, 0, 0, 0, 1, 1, 1, 0, 0, 0, 0, 0, 0, 0, 0, 1, 1, 0, 0, 0, 0, 0, 0, 0, 1, 0, 0, 0, 1, 0, 0, 0, 1, 0, 1, 1, 0, 0, 1, 0, 1, 0, 0, 1, 0, 1, 1, 0, 0, 0, 1, 0, 1, 0, 0, 1, 1, 0, 1, 0, 0, 0, 0, 1, 0, 0, 1, 0, 0, 0, 0, 1, 1, 1, 0, 1, 0, 1, 0, 1, 0, 0, 0, 0, 1, 1, 1, 0, 0, 1, 0, 0, 0, 1, 0, 0, 1, 0, 0, 0, 0, 0, 1, 1, 1, 0, 0, 0, 0, 1, 0, 0, 0, 0, 0, 1, 1, 0, 0, 1, 0, 1, 0, 0, 1, 0, 1, 0, 0, 1, 0, 1, 1, 1, 1, 0, 0, 0, 0, 1, 0, 0, 1, 0, 0, 0, 0, 0, 0, 0, 0, 1, 1, 1, 1, 1, 0, 0, 0, 1, 0, 0, 0, 1, 1, 0, 0, 0, 1, 0, 0, 0, 0, 0, 1, 0, 0, 0, 0, 0, 1, 0, 1, 0, 1, 0, 1, 0, 0, 1, 1, 0, 1, 0, 1, 0, 0, 0, 0, 1, 0, 1, 0, 1, 0, 0, 0, 0, 1, 1, 0, 0, 1, 1, 0, 0, 0, 0, 0, 1, 1, 0, 0, 1, 0, 1, 0, 0, 0, 1, 0, 0, 1, 0, 0, 0, 0, 0, 0, 1, 1, 0, 0, 1, 1, 0, 1, 1, 1, 0, 1, 1, 0, 0, 0, 1, 0, 0, 0, 1, 0, 0, 1, 1, 0, 0, 1, 1, 1, 0, 0, 1, 0, 1, 0, 1, 1, 1, 0, 1, 1, 0, 0, 1, 0, 0, 1, 0, 0, 0, 0, 1, 0, 0, 0, 0, 0, 0, 1, 0, 1, 1, 1, 1, 1, 0, 0, 0, 1, 1, 1, 0, 1, 1, 1, 0, 0, 0, 0, 0, 1, 0, 1, 0, 0, 0, 0, 0, 0, 1, 0, 1, 1, 0, 0, 1, 0, 0, 0, 0, 1, 1, 1, 0, 0, 1, 0, 0, 1, 0, 0, 0, 0, 1, 0, 1, 0, 0, 1, 0, 0, 0, 1, 0, 0, 1, 0, 1, 0, 0, 0, 0, 0, 0, 0, 1, 0, 0, 0, 1, 0, 0, 0, 1, 1, 0, 1, 0, 0, 0, 1, 1, 0, 0, 0, 1, 0, 1, 0, 0, 0, 0, 1, 0, 1, 0, 1, 0, 1, 1, 0, 0, 0, 0, 1, 1, 0, 1, 0, 0, 1, 0, 0, 0, 0, 0, 0, 0, 0, 0, 0, 0, 1, 0, 0, 0, 0, 1, 0, 1, 0, 1, 0, 1, 0, 0, 1, 0, 1, 0, 0, 0, 0, 0, 0, 0, 0, 0, 0, 0, 0, 1, 1, 1, 1, 1, 1, 0, 0, 0, 0, 0, 0, 0, 1, 0, 1, 1, 0, 0, 0, 1, 0, 1, 1, 0, 1, 0, 1, 1, 0, 1, 0, 1, 0, 0, 0, 0, 0, 1, 1, 1, 0, 0, 1, 1, 1, 0, 0, 1, 1, 0, 0, 0, 1, 0, 0, 0, 1, 0, 0, 0, 0, 0, 0, 0, 0, 1, 1, 0, 1, 1, 1, 1, 0, 1, 1, 1, 1, 0, 1, 0, 1, 1, 0, 0, 0, 0, 0, 0, 0, 0, 1, 0, 0, 0, 0, 0, 0, 0, 1, 0, 1, 0, 0, 0, 0, 0, 0, 1, 0, 1, 0, 0, 1, 0, 0, 1, 0, 1, 1, 0, 0, 1, 0, 0, 0, 0, 0, 1, 0, 0, 0, 0, 0, 1, 0, 0, 0, 0, 0, 0, 1, 0, 1, 0, 0, 0, 0, 0, 1, 0, 0, 0, 1, 1, 0, 1, 0, 1, 0, 0, 0, 1, 1, 1, 1, 1, 0, 0, 1, 0, 1, 1, 1, 0, 0, 0, 0, 0, 0, 1, 0, 0, 0, 0, 0, 0, 0, 0, 0, 0, 0, 1, 0, 0, 0, 1, 0, 0, 0, 1, 1, 0, 0, 1, 1, 0, 0, 0, 0, 0, 0, 1, 0, 0, 0, 0, 1, 1, 0, 1, 0, 0, 1, 0, 0, 0, 1, 1, 0, 1, 0, 1, 1, 0, 1, 0, 0, 1, 0, 0, 0, 0, 0, 0, 0, 1, 1, 0, 1, 0, 1, 0, 0, 0, 0, 1, 1, 0, 0, 0, 0, 0, 1, 1, 0, 0, 0, 0, 0, 0, 0, 1, 0, 0, 0, 0, 1, 0, 0, 0, 0, 0, 0, 1, 0, 1, 1, 1, 0, 1, 0, 1, 1, 1, 0, 0, 0, 0, 1, 0, 0, 1, 1, 0, 0, 0, 0, 0, 0, 0, 1, 0, 1, 1, 1, 0, 0, 1, 0, 1, 0, 1, 0, 1, 1, 1, 1, 0, 0, 0, 0, 0, 0, 0, 1, 1, 1, 1, 1, 1, 0, 0, 0, 0, 1, 0, 0, 1, 0, 0, 1, 0, 0, 0, 1, 1, 0, 0, 0, 0, 0, 1, 1, 0, 0, 1, 0, 0, 0, 1, 1, 0, 0, 0, 1, 0, 0, 0, 1, 1, 1, 0, 0, 0, 0, 0, 0, 0, 0, 0, 0, 1, 0, 1, 1, 0, 0, 0, 0, 0, 0, 0, 0, 0, 1, 1, 0, 1, 1, 1, 0, 0, 0, 0, 1, 0, 0, 1, 1, 1, 0, 1, 1, 0, 1, 1, 0, 0, 1, 0, 0, 1, 1, 1, 0, 0, 1, 0, 1, 1, 0, 0, 0, 1, 0, 0, 0, 1, 1, 0, 0, 1, 0, 0, 0, 1, 1, 1, 0, 1, 0, 0, 0, 0, 0, 0, 0, 0, 0, 0, 0, 1, 1, 1, 0, 0, 1, 0, 0, 0, 0, 1, 1, 0, 0, 1, 0, 0, 0, 0, 1, 0, 0, 0, 1, 0, 1, 0, 1, 0, 0, 0, 0, 0, 1, 1, 0, 0, 1, 1, 0, 0, 0, 1, 0, 1, 1, 1, 1, 1, 0, 1, 0, 1, 0, 0, 1, 0, 1, 0, 1, 0, 1, 1, 0, 0, 1, 1, 0, 0, 0, 1, 1, 0, 0, 0, 1, 0, 1, 0, 0, 1, 1, 0, 0, 0, 1, 0, 1, 0, 0, 1, 0, 0, 0, 0, 1, 1, 0, 1, 1, 0, 0, 0, 0, 0, 1, 1, 1, 1, 0, 1, 0, 1, 0, 1, 0, 0, 0, 0, 0, 0, 0, 0, 1, 1, 0, 0, 0, 1, 0, 0, 0, 1, 1, 0, 1, 0, 0, 1, 0, 0, 0, 1, 0, 0, 0, 0, 1, 0, 0, 0, 1, 1, 0, 0, 0, 1, 0, 1, 1, 0, 1, 0, 1, 1, 1, 0, 0, 0, 0, 0, 0, 0, 0, 0, 0, 0, 1, 0, 1, 0, 1, 0, 0, 1, 1, 0, 0, 0, 0, 0, 0, 0, 0, 0, 0, 0, 1, 0, 0, 0, 1, 0, 1, 0, 0, 0, 1, 1, 0, 0, 0, 0, 0, 0, 1, 0, 1, 1, 1, 1, 0, 1, 0, 0, 0, 1, 0, 1, 0, 1, 0, 0, 1, 1, 0, 0, 1, 0, 0, 0, 0, 0, 0, 0, 1, 0, 1, 0, 1, 1, 0, 0, 0, 1, 1, 1, 0, 0, 0, 1, 1, 0, 1, 0, 0, 0, 0, 1, 0, 0, 1, 0, 1, 0, 1, 0, 1, 0, 0, 1, 0, 1, 0, 0, 0, 1, 0, 0, 0, 0, 0, 1, 0, 0, 0, 1, 0, 0, 0, 1, 0, 0, 0, 0, 0, 1, 0, 0, 0, 0, 1, 0, 0, 0, 1, 0, 0, 0, 0, 0, 0, 0, 0, 1, 1, 0, 1, 1, 0, 0, 1, 1, 0, 0, 1, 0, 1, 0, 1, 0, 0, 0, 1, 1, 0, 0, 0, 0, 0, 0, 1, 1, 1, 0, 1, 0, 0]\n"
          ]
        }
      ]
    },
    {
      "cell_type": "code",
      "source": [
        "import pandas as pd\n",
        "\n",
        "# Cargar la data original (Anemia_test.csv)\n",
        "data_original = pd.read_csv(\"/content/ANEMIA_TEST.csv\")\n",
        "\n",
        "# Cargar los nuevos registros desde Anemia_prueba.csv\n",
        "nuevos_registros = pd.read_csv(\"/content/DataPrueba.csv\")\n",
        "\n",
        "# Predecir la anemia con el modelo previamente entrenado\n",
        "predicciones = model.predict(nuevos_registros)\n",
        "\n",
        "# Crear un DataFrame con los resultados\n",
        "resultados = pd.DataFrame({\n",
        "    'Data Original': data_original['Result'],\n",
        "    'Predicciones': [1 if prediccion >= 0.5 else 0 for prediccion in predicciones]\n",
        "})\n",
        "\n",
        "# Guardar los resultados en un archivo Excel\n",
        "resultados.to_excel('resultados_anemia.xlsx', index=False)\n",
        "\n",
        "# Imprimir el DataFrame de resultados\n",
        "print(\"Resultados:\")\n",
        "print(resultados)\n"
      ],
      "metadata": {
        "colab": {
          "base_uri": "https://localhost:8080/"
        },
        "id": "5_WyXBxP9syU",
        "outputId": "e5c778ee-890b-48f2-8673-9a0236d18d21"
      },
      "execution_count": 7,
      "outputs": [
        {
          "output_type": "stream",
          "name": "stdout",
          "text": [
            "57/57 [==============================] - 0s 1ms/step\n",
            "Resultados:\n",
            "      Data Original  Predicciones\n",
            "0                 1             1\n",
            "1                 1             1\n",
            "2                 0             0\n",
            "3                 0             0\n",
            "4                 0             0\n",
            "...             ...           ...\n",
            "1813              1             1\n",
            "1814              0             0\n",
            "1815              1             1\n",
            "1816              0             0\n",
            "1817              0             0\n",
            "\n",
            "[1818 rows x 2 columns]\n"
          ]
        }
      ]
    },
    {
      "cell_type": "code",
      "source": [
        "\n"
      ],
      "metadata": {
        "id": "I7YN0FBtKjQE"
      },
      "execution_count": null,
      "outputs": []
    },
    {
      "cell_type": "code",
      "source": [],
      "metadata": {
        "id": "Cd7Vcgs2KjJ9"
      },
      "execution_count": null,
      "outputs": []
    }
  ]
}